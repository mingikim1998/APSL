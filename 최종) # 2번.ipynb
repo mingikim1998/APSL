{
 "cells": [
  {
   "cell_type": "code",
   "execution_count": 1,
   "metadata": {},
   "outputs": [],
   "source": [
    "# 너비우선탐색\n",
    "graph= {}\n",
    "graph[\"A\"] = [\"B\", \"C\"]\n",
    "graph[\"B\"] = [\"D\", \"E\"]\n",
    "graph[\"C\"] = [\"D\", \"E\"]\n",
    "graph[\"D\"] = [\"F\"]\n",
    "graph[\"E\"] = [\"F\"]\n",
    "\n",
    "# cost\n",
    "cost = {}\n",
    "cost[\"A\"] = {}\n",
    "cost[\"A\"][\"B\"] = 5\n",
    "cost[\"A\"][\"C\"] = 0\n",
    "cost[\"B\"] = {}\n",
    "cost[\"B\"][\"D\"] = 15 \n",
    "cost[\"B\"][\"E\"] = 20\n",
    "cost[\"C\"] = {}\n",
    "cost[\"C\"][\"D\"] = 30 \n",
    "cost[\"C\"][\"E\"] = 35 \n",
    "cost[\"D\"] = {}\n",
    "cost[\"D\"][\"F\"] = 20 \n",
    "cost[\"E\"] = {}\n",
    "cost[\"E\"][\"F\"] = 10\n",
    "cost[\"F\"] = {}"
   ]
  },
  {
   "cell_type": "code",
   "execution_count": 5,
   "metadata": {},
   "outputs": [],
   "source": [
    "# 너비우선탐색\n",
    "graph= {}\n",
    "graph[\"악보\"] = [\"LP\", \"포스터\"]\n",
    "graph[\"LP\"] = [\"기타\", \"드럼세트\"]\n",
    "graph[\"포스터\"] = [\"기타\", \"드럼세트\"]\n",
    "graph[\"기타\"] = [\"피아노\"]\n",
    "graph[\"드럼세트\"] = [\"피아노\"]\n",
    "\n",
    "# cost\n",
    "cost = {}\n",
    "cost[\"악보\"] = {}\n",
    "cost[\"악보\"][\"LP\"] = 5\n",
    "cost[\"악보\"][\"포스터\"] = 0\n",
    "cost[\"LP\"] = {}\n",
    "cost[\"LP\"][\"기타\"] = 15 \n",
    "cost[\"LP\"][\"드럼세트\"] = 20\n",
    "cost[\"포스터\"] = {}\n",
    "cost[\"포스터\"][\"기타\"] = 30 \n",
    "cost[\"포스터\"][\"드럼세트\"] = 35 \n",
    "cost[\"기타\"] = {}\n",
    "cost[\"기타\"][\"피아노\"] = 20 \n",
    "cost[\"드럼세트\"] = {}\n",
    "cost[\"드럼세트\"][\"피아노\"] = 10\n",
    "cost[\"피아노\"] = {}"
   ]
  },
  {
   "cell_type": "code",
   "execution_count": 6,
   "metadata": {},
   "outputs": [],
   "source": [
    "# 2. 너비우선탐색 알고리즘으로 비용과 해당경로 나오게 하기.\n",
    "from collections import deque\n",
    "new_paths = [] \n",
    "new_cost_list = []\n",
    "def bfs(graph,start,final):\n",
    "    queue = []\n",
    "    queue.append([start])\n",
    "    while queue:\n",
    "        path = queue.pop(0)\n",
    "        node = path[-1]\n",
    "        new_cost = 0\n",
    "        for adjacent in graph.get(node,[]):\n",
    "            new_path = list(path)\n",
    "            new_path.append(adjacent)\n",
    "            queue.append(new_path)\n",
    "            \n",
    "            if final in new_path: \n",
    "                new_paths.append(new_path)\n",
    "                for i in range(len(new_paths)):\n",
    "                    new_cost = 0\n",
    "                    for j in range(3):\n",
    "                        w = new_paths[i][j]\n",
    "                        e = new_paths[i][j+1]\n",
    "                        new_cost += cost[w][e]\n",
    "                print(new_cost,new_paths[-1])                  "
   ]
  },
  {
   "cell_type": "code",
   "execution_count": 7,
   "metadata": {
    "scrolled": true
   },
   "outputs": [
    {
     "name": "stdout",
     "output_type": "stream",
     "text": [
      "40 ['악보', 'LP', '기타', '피아노']\n",
      "35 ['악보', 'LP', '드럼세트', '피아노']\n",
      "50 ['악보', '포스터', '기타', '피아노']\n",
      "45 ['악보', '포스터', '드럼세트', '피아노']\n"
     ]
    }
   ],
   "source": [
    "bfs(graph,\"악보\",\"피아노\") # 전체 악보에서 피아노까지의 모든 경로를 도출한 다음 각각의 경로의 비용을 해시테이블로 호출하여 계산하고, 가장 값이 작은 경로가 최단 경로"
   ]
  },
  {
   "cell_type": "code",
   "execution_count": 8,
   "metadata": {},
   "outputs": [
    {
     "data": {
      "text/plain": [
       "[['악보', 'LP', '기타', '피아노'],\n",
       " ['악보', 'LP', '드럼세트', '피아노'],\n",
       " ['악보', '포스터', '기타', '피아노'],\n",
       " ['악보', '포스터', '드럼세트', '피아노']]"
      ]
     },
     "execution_count": 8,
     "metadata": {},
     "output_type": "execute_result"
    }
   ],
   "source": [
    "new_paths"
   ]
  },
  {
   "cell_type": "code",
   "execution_count": null,
   "metadata": {},
   "outputs": [],
   "source": []
  },
  {
   "cell_type": "code",
   "execution_count": 10,
   "metadata": {},
   "outputs": [
    {
     "name": "stdout",
     "output_type": "stream",
     "text": [
      "['악보', 'LP', '기타', '피아노'] 40\n",
      "['악보', 'LP', '드럼세트', '피아노'] 35\n",
      "['악보', '포스터', '기타', '피아노'] 50\n",
      "['악보', '포스터', '드럼세트', '피아노'] 45\n"
     ]
    }
   ],
   "source": [
    "# 다른 방식으로 더하기..\n",
    "\n",
    "from itertools import tee\n",
    "\n",
    "new_paths =  [['악보', 'LP', '기타', '피아노'],\n",
    " ['악보', 'LP', '드럼세트', '피아노'],\n",
    " ['악보', '포스터', '기타', '피아노'],\n",
    " ['악보', '포스터', '드럼세트', '피아노']]\n",
    "\n",
    "def pairwise(iterable):\n",
    "    \"s -> (s0,s1), (s1,s2), (s2, s3), ...\"\n",
    "    a, b = tee(iterable)\n",
    "    next(b, None)\n",
    "    return zip(a, b)\n",
    "\n",
    "for route in new_paths:\n",
    "    a, b = tee(route)\n",
    "    print(f'{route!r}', sum(cost[x][y] for x, y in pairwise(route)))"
   ]
  },
  {
   "cell_type": "code",
   "execution_count": null,
   "metadata": {},
   "outputs": [],
   "source": []
  }
 ],
 "metadata": {
  "kernelspec": {
   "display_name": "Python 3",
   "language": "python",
   "name": "python3"
  },
  "language_info": {
   "codemirror_mode": {
    "name": "ipython",
    "version": 3
   },
   "file_extension": ".py",
   "mimetype": "text/x-python",
   "name": "python",
   "nbconvert_exporter": "python",
   "pygments_lexer": "ipython3",
   "version": "3.7.6"
  }
 },
 "nbformat": 4,
 "nbformat_minor": 4
}
