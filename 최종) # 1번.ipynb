{
 "cells": [
  {
   "cell_type": "code",
   "execution_count": 1,
   "metadata": {},
   "outputs": [],
   "source": [
    "graph = {}"
   ]
  },
  {
   "cell_type": "code",
   "execution_count": 2,
   "metadata": {},
   "outputs": [],
   "source": [
    "graph[\"악보\"] = {}\n",
    "graph[\"악보\"][\"LP\"] = 5\n",
    "graph[\"악보\"][\"포스터\"] = 0\n",
    "\n",
    "graph[\"LP\"] = {}\n",
    "graph[\"LP\"][\"기타\"] = 15 \n",
    "graph[\"LP\"][\"드럼세트\"] = 20\n",
    "\n",
    "graph[\"포스터\"] = {}\n",
    "graph[\"포스터\"][\"기타\"] = 30 \n",
    "graph[\"포스터\"][\"드럼세트\"] = 35 \n",
    "\n",
    "graph[\"기타\"] = {}\n",
    "graph[\"기타\"][\"피아노\"] = 20 \n",
    "\n",
    "graph[\"드럼세트\"] = {}\n",
    "graph[\"드럼세트\"][\"피아노\"] = 10\n",
    "\n",
    "graph[\"피아노\"] = {}"
   ]
  },
  {
   "cell_type": "code",
   "execution_count": 3,
   "metadata": {},
   "outputs": [
    {
     "data": {
      "text/plain": [
       "{'악보': {'LP': 5, '포스터': 0},\n",
       " 'LP': {'기타': 15, '드럼세트': 20},\n",
       " '포스터': {'기타': 30, '드럼세트': 35},\n",
       " '기타': {'피아노': 20},\n",
       " '드럼세트': {'피아노': 10},\n",
       " '피아노': {}}"
      ]
     },
     "execution_count": 3,
     "metadata": {},
     "output_type": "execute_result"
    }
   ],
   "source": [
    "graph"
   ]
  },
  {
   "cell_type": "code",
   "execution_count": 4,
   "metadata": {},
   "outputs": [
    {
     "data": {
      "text/plain": [
       "dict_keys(['LP', '포스터'])"
      ]
     },
     "execution_count": 4,
     "metadata": {},
     "output_type": "execute_result"
    }
   ],
   "source": [
    "graph[\"악보\"].keys()"
   ]
  },
  {
   "cell_type": "code",
   "execution_count": 5,
   "metadata": {},
   "outputs": [],
   "source": [
    "#graph 해시 테이블\n",
    "graph = {\n",
    "    '악보': {'LP': 5, '포스터': 0},\n",
    "    'LP': {'기타': 15, '드럼세트': 20},\n",
    "    '포스터': {'기타': 30, '드럼세트': 35},\n",
    "    '기타': {'피아노': 20},\n",
    "    '드럼세트': {'피아노': 10},\n",
    "    '피아노': {}\n",
    "}"
   ]
  },
  {
   "cell_type": "code",
   "execution_count": 6,
   "metadata": {},
   "outputs": [],
   "source": [
    "infinity = float(\"inf\")"
   ]
  },
  {
   "cell_type": "code",
   "execution_count": 7,
   "metadata": {},
   "outputs": [],
   "source": [
    "#costs 해시 테이블\n",
    "costs = {\n",
    "    '악보': 0,\n",
    "    'LP': 5,\n",
    "    '포스터': 0,\n",
    "    '기타': infinity,\n",
    "    '드럼세트': infinity,\n",
    "    '피아노': infinity\n",
    "}"
   ]
  },
  {
   "cell_type": "code",
   "execution_count": 8,
   "metadata": {},
   "outputs": [],
   "source": [
    "#parents 해시 테이블\n",
    "parents = {\n",
    "    \"LP\" : \"악보\",\n",
    "    \"포스터\" : \"악보\",\n",
    "    \"기타\" : None,\n",
    "    \"드럼세트\" : None,\n",
    "    \"피아노\" : None\n",
    "}"
   ]
  },
  {
   "cell_type": "code",
   "execution_count": 9,
   "metadata": {},
   "outputs": [],
   "source": [
    "processed = []"
   ]
  },
  {
   "cell_type": "code",
   "execution_count": 10,
   "metadata": {},
   "outputs": [],
   "source": [
    "# 가장 싼 노드를 찾는 함수\n",
    "def find_lowest_cost_node(costs):\n",
    "    lowest_cost = float(\"inf\")\n",
    "    lowest_cost_node = None\n",
    "\n",
    "    for node in costs: # 비용 테이블에서 노드를 하나씩 돌면서\n",
    "        cost = costs[node]\n",
    "        if cost < lowest_cost and node not in processed: # 확인중인 노드의 비용이 최저 비용보다 낮고 그 노드가 처리되지 않은 노드일 때\n",
    "            lowest_cost = cost # 최저 비용 갱신\n",
    "            lowest_cost_node = node # 최저 비용 노드 갱신\n",
    "\n",
    "    return lowest_cost_node"
   ]
  },
  {
   "cell_type": "code",
   "execution_count": 11,
   "metadata": {},
   "outputs": [
    {
     "name": "stdout",
     "output_type": "stream",
     "text": [
      "최단 경로\n",
      "악보 → LP → 드럼세트 → 피아노\n",
      "\n",
      "비용 :  35\n"
     ]
    }
   ],
   "source": [
    "def dijkstra(graph, start, final):\n",
    "    node = find_lowest_cost_node(costs) # 아직 처리하지 않은 가장 싼 노드 찾기\n",
    "    # 모든 노드를 처리하면 반복문 종료\n",
    "    while node is not None: \n",
    "        cost = costs[node] \n",
    "        neighbors = graph[node]\n",
    "\n",
    "        for n in neighbors.keys():\n",
    "            new_cost = cost + neighbors[n]\n",
    "\n",
    "            if costs[n] > new_cost: # 새 노드를 지나는 것이 가격이 더 싸다면\n",
    "                costs[n] = new_cost # 노드의 가격을 새 노드의 가격으로 갱신\n",
    "                parents[n] = node # 부모를 이 노드로 새로 설정\n",
    "\n",
    "        processed.append(node) # 노드를 처리한 사실을 기록\n",
    "        node = find_lowest_cost_node(costs) # 다음으로 처리할 노드를 찾아 반복\n",
    "    route = []\n",
    "    now = final\n",
    "    while True:\n",
    "        route.append(now)\n",
    "        if now == start:\n",
    "            break\n",
    "        now = parents[now]\n",
    "    return costs[final], route\n",
    "\n",
    "cost, route = dijkstra(graph, '악보', '피아노')\n",
    "print('최단 경로')\n",
    "    \n",
    "for i in range(len(route)-1, -1, -1):\n",
    "    if i == 0:\n",
    "        print (route[i])\n",
    "    else:\n",
    "        print (route[i], end=\" → \")\n",
    "print('\\n비용 : ', cost)"
   ]
  },
  {
   "cell_type": "code",
   "execution_count": null,
   "metadata": {},
   "outputs": [],
   "source": []
  },
  {
   "cell_type": "code",
   "execution_count": 12,
   "metadata": {},
   "outputs": [
    {
     "data": {
      "text/plain": [
       "(35, ['피아노', '드럼세트', 'LP', '악보'])"
      ]
     },
     "execution_count": 12,
     "metadata": {},
     "output_type": "execute_result"
    }
   ],
   "source": [
    "dijkstra(graph,'악보','피아노')"
   ]
  },
  {
   "cell_type": "code",
   "execution_count": null,
   "metadata": {},
   "outputs": [],
   "source": []
  }
 ],
 "metadata": {
  "kernelspec": {
   "display_name": "Python 3",
   "language": "python",
   "name": "python3"
  },
  "language_info": {
   "codemirror_mode": {
    "name": "ipython",
    "version": 3
   },
   "file_extension": ".py",
   "mimetype": "text/x-python",
   "name": "python",
   "nbconvert_exporter": "python",
   "pygments_lexer": "ipython3",
   "version": "3.7.6"
  }
 },
 "nbformat": 4,
 "nbformat_minor": 4
}
