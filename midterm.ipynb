{
 "cells": [
  {
   "cell_type": "code",
   "execution_count": 28,
   "metadata": {},
   "outputs": [],
   "source": [
    "# libraries\n",
    "import matplotlib.pyplot as plt \n",
    "import numpy as np\n",
    "import pandas as pd\n",
    "import time   \n",
    "import random\n",
    "\n",
    "# 정렬 5개(퀵정렬, 선택정렬, 버블정렬, 삽입정렬, 합병정렬)\n",
    "def QuickSort(array):\n",
    "  if len(array) < 2:  \n",
    "    return array\n",
    "  else:   \n",
    "    pivot = array[0] \n",
    "\n",
    "    less = [] \n",
    "    greater = [] \n",
    "    for i in array[1:]: \n",
    "      if i <= pivot:\n",
    "        less.append(i)\n",
    "      else:\n",
    "        greater.append(i)\n",
    "    return QuickSort(less) + [pivot] + QuickSort(greater)\n",
    "\n",
    "# 선택정렬 - find smallest 함수와 합치기 완료\n",
    "def selection_sort(arr): # 입력값: 배열\n",
    "    newArr = []\n",
    "    for i in range(len(arr)):\n",
    "        smallest = arr[0]\n",
    "        smallest_index = 0\n",
    "        for idx in range(1, len(arr)):\n",
    "            if arr[idx] < smallest:\n",
    "                smallest = arr[idx]\n",
    "                smallest_index = idx\n",
    "\n",
    "        newArr.append(arr.pop(smallest_index))\n",
    "    return newArr\n",
    "\n",
    "def BubbleSort(nlist):\n",
    "    for passnum in range(len(nlist)-1,0,-1):\n",
    "        for i in range(passnum):\n",
    "            if nlist[i]>nlist[i+1]:\n",
    "                temp = nlist[i]\n",
    "                nlist[i] = nlist[i+1]\n",
    "                nlist[i+1] = temp\n",
    "    return nlist\n",
    "\n",
    "def InsertionSort(InsertionList) :\n",
    "    for i in range(1,len(InsertionList)) :\n",
    "        j=i-1\n",
    "        while(j>=0 and InsertionList[i]<InsertionList[j]):\n",
    "            j-=1\n",
    "        InsertionList.insert((j + 1), InsertionList[i])\n",
    "        del InsertionList[i+1]\n",
    "    return InsertionList\n",
    "                \n",
    "def MergeSort(arr):\n",
    "    if len(arr) < 2:\n",
    "        return arr\n",
    "\n",
    "    mid = len(arr) // 2\n",
    "    low_arr = MergeSort(arr[:mid])\n",
    "    high_arr = MergeSort(arr[mid:])\n",
    "\n",
    "    merged_arr = []\n",
    "    l = h = 0\n",
    "    while l < len(low_arr) and h < len(high_arr):\n",
    "        if low_arr[l] < high_arr[h]:\n",
    "            merged_arr.append(low_arr[l])\n",
    "            l += 1\n",
    "        else:\n",
    "            merged_arr.append(high_arr[h])\n",
    "            h += 1\n",
    "    merged_arr += low_arr[l:]\n",
    "    merged_arr += high_arr[h:]\n",
    "    return merged_arr\n",
    "\n",
    "#여기부터 time calculation func\n",
    "def time_calculation_quick(test_range):\n",
    "    result = []\n",
    "    for i in test_range:\n",
    "        start_time = time.time()\n",
    "        copy_list = alist[:i]\n",
    "        QuickSort(copy_list)\n",
    "        elapsed_time = time.time() - start_time\n",
    "        result.append(elapsed_time)\n",
    "    return result\n",
    "\n",
    "def time_calculation_selection(test_range):\n",
    "    result = []\n",
    "    for i in test_range:\n",
    "        start_time = time.time()\n",
    "        copy_list = alist[:i]\n",
    "        #print(\"Selection sort for {0} start\".format(i))\n",
    "        SelectionSort(copy_list)\n",
    "        #print(\"Selection sort for {0} end\".format(i))\n",
    "        elapsed_time = time.time() - start_time\n",
    "        result.append(elapsed_time)\n",
    "    return result\n",
    "\n",
    "def time_calculation_bubble(test_range):\n",
    "    result = []\n",
    "    for i in test_range:\n",
    "        start_time = time.time()\n",
    "        copy_list = alist[:i]\n",
    "        BubbleSort(copy_list)\n",
    "        elapsed_time = time.time() - start_time\n",
    "        result.append(elapsed_time)\n",
    "    return result\n",
    "\n",
    "def time_calculation_insertion(test_range):\n",
    "    result = []\n",
    "    for i in test_range:\n",
    "        start_time = time.time()\n",
    "        copy_list = alist[:i]\n",
    "        InsertionSort(copy_list)\n",
    "        elapsed_time = time.time() - start_time\n",
    "        result.append(elapsed_time)\n",
    "    return result\n",
    "\n",
    "def time_calculation_merge(test_range):\n",
    "    result = []\n",
    "    for i in test_range:\n",
    "        start_time = time.time()\n",
    "        copy_list = alist[:i]\n",
    "        MergeSort(copy_list)\n",
    "        elapsed_time = time.time() - start_time\n",
    "        result.append(elapsed_time)\n",
    "    return result"
   ]
  },
  {
   "cell_type": "code",
   "execution_count": 29,
   "metadata": {},
   "outputs": [
    {
     "name": "stdout",
     "output_type": "stream",
     "text": [
      "test range= [10, 100, 1000, 10000, 100000]\n"
     ]
    }
   ],
   "source": [
    "# 간선그래프 x축에 해당되는 내용\n",
    "test_range = []\n",
    "for exponent in range(1, 6):\n",
    "    test_range.append(10 ** exponent) #10의1승부터 10의 5승\n",
    "print(\"test range=\", test_range)"
   ]
  },
  {
   "cell_type": "code",
   "execution_count": 30,
   "metadata": {},
   "outputs": [],
   "source": [
    "# 정렬 5개 각각 시간 나타내기\n",
    "alist = random.sample(range(1,10000000),1000000)"
   ]
  },
  {
   "cell_type": "code",
   "execution_count": 31,
   "metadata": {},
   "outputs": [
    {
     "data": {
      "text/plain": [
       "[0.0,\n",
       " 0.00099945068359375,\n",
       " 0.001009225845336914,\n",
       " 0.019004106521606445,\n",
       " 0.2480473518371582]"
      ]
     },
     "execution_count": 31,
     "metadata": {},
     "output_type": "execute_result"
    }
   ],
   "source": [
    "output_quick = time_calculation_quick(test_range)\n",
    "output_quick"
   ]
  },
  {
   "cell_type": "code",
   "execution_count": 32,
   "metadata": {},
   "outputs": [
    {
     "data": {
      "text/plain": [
       "[0.0, 0.0, 0.01899576187133789, 2.0444722175598145, 317.8334963321686]"
      ]
     },
     "execution_count": 32,
     "metadata": {},
     "output_type": "execute_result"
    }
   ],
   "source": [
    "output_selection = time_calculation_selection(test_range)\n",
    "output_selection"
   ]
  },
  {
   "cell_type": "code",
   "execution_count": 33,
   "metadata": {},
   "outputs": [
    {
     "data": {
      "text/plain": [
       "[0.0,\n",
       " 0.0010001659393310547,\n",
       " 0.09002041816711426,\n",
       " 9.326126098632812,\n",
       " 1094.3875353336334]"
      ]
     },
     "execution_count": 33,
     "metadata": {},
     "output_type": "execute_result"
    }
   ],
   "source": [
    "output_bubble = time_calculation_bubble(test_range)\n",
    "output_bubble"
   ]
  },
  {
   "cell_type": "code",
   "execution_count": 34,
   "metadata": {},
   "outputs": [
    {
     "data": {
      "text/plain": [
       "[0.0,\n",
       " 0.0010020732879638672,\n",
       " 0.02900385856628418,\n",
       " 2.860649585723877,\n",
       " 327.11942887306213]"
      ]
     },
     "execution_count": 34,
     "metadata": {},
     "output_type": "execute_result"
    }
   ],
   "source": [
    "output_insertion = time_calculation_insertion(test_range)\n",
    "output_insertion"
   ]
  },
  {
   "cell_type": "code",
   "execution_count": 35,
   "metadata": {},
   "outputs": [
    {
     "data": {
      "text/plain": [
       "[0.0,\n",
       " 0.0010004043579101562,\n",
       " 0.004002809524536133,\n",
       " 0.05400967597961426,\n",
       " 0.6411478519439697]"
      ]
     },
     "execution_count": 35,
     "metadata": {},
     "output_type": "execute_result"
    }
   ],
   "source": [
    "output_merge = time_calculation_merge(test_range)\n",
    "output_merge"
   ]
  },
  {
   "cell_type": "code",
   "execution_count": 36,
   "metadata": {},
   "outputs": [
    {
     "name": "stdout",
     "output_type": "stream",
     "text": [
      "[ 1.11625444 -0.37201627 -1.13117318 -0.89280004 -0.65817451]\n"
     ]
    }
   ],
   "source": [
    "# 간선그래프에서 y축에 해당되는 내용\n",
    "output_selection = np.random.randn(5)\n",
    "output_quick = np.random.randn(5)+range(1,6)\n",
    "output_bubble = np.random.randn(5)\n",
    "output_insertion = np.random.randn(5)\n",
    "output_merge = np.random.randn(5)\n",
    "print(output_selection)"
   ]
  },
  {
   "cell_type": "code",
   "execution_count": 37,
   "metadata": {},
   "outputs": [
    {
     "data": {
      "text/plain": [
       "<matplotlib.legend.Legend at 0x1880bef2f88>"
      ]
     },
     "execution_count": 37,
     "metadata": {},
     "output_type": "execute_result"
    },
    {
     "data": {
      "image/png": "[encoded data removed]",
      "text/plain": [
       "<Figure size 432x288 with 1 Axes>"
      ]
     },
     "metadata": {
      "needs_background": "light"
     },
     "output_type": "display_data"
    }
   ],
   "source": [
    "# Data\n",
    "df =pd.DataFrame({'x': test_range, 'SelectionSort': output_selection, 'QuickSort': output_quick, 'BubbleSort': output_bubble,'InsertionSort': output_insertion, 'MergeSort': output_merge})\n",
    "\n",
    "# multiple line plot\n",
    "plt.xscale('log') # x,y 모두 로그 변환\n",
    "plt.yscale('log')\n",
    "plt.plot( 'x', 'SelectionSort', data=df, marker='o', markerfacecolor='blue', markersize=10, color='black', linewidth=2)\n",
    "plt.plot( 'x', 'QuickSort', data=df, marker=\"s\", markerfacecolor='red', markersize=10, color='black', linewidth=2)\n",
    "plt.plot( 'x', 'BubbleSort', data=df, marker=\"v\", markerfacecolor='green', markersize=10, color='black', linewidth=2)\n",
    "plt.plot( 'x', 'InsertionSort', data=df, marker=\"*\", markerfacecolor='yellow', markersize=10, color='black', linewidth=2)\n",
    "plt.plot( 'x', 'MergeSort', data=df, marker=\"d\", markerfacecolor='white', markersize=10, color='black', linewidth=2)\n",
    "# markers' shape all_shape=['.','o','v','^','>','<','s','p','*','h','H','D','d','']\n",
    "\n",
    "plt.legend()"
   ]
  },
  {
   "cell_type": "code",
   "execution_count": null,
   "metadata": {},
   "outputs": [],
   "source": [
    "\"\"\"\n",
    "quick sort : O(n log n) - at average, O(n) at worst\n",
    "selection sort : n(n - 1)/2 \n",
    "insertion sort:  n(n - 1)/2 (worst)\n",
    "merge sort : O(n * log(n)) - 가장 빠를 수 있는 방법\n",
    "bubble sort : O(n**2)\n",
    "\"\"\""
   ]
  }
 ],
 "metadata": {
  "kernelspec": {
   "display_name": "Python 3",
   "language": "python",
   "name": "python3"
  },
  "language_info": {
   "codemirror_mode": {
    "name": "ipython",
    "version": 3
   },
   "file_extension": ".py",
   "mimetype": "text/x-python",
   "name": "python",
   "nbconvert_exporter": "python",
   "pygments_lexer": "ipython3",
   "version": "3.7.6"
  }
 },
 "nbformat": 4,
 "nbformat_minor": 4
}
