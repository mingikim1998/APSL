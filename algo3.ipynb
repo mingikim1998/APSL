{
 "cells": [
  {
   "cell_type": "code",
   "execution_count": 14,
   "metadata": {},
   "outputs": [],
   "source": [
    "# 무한대는 infinity라고 칭한다.\n",
    "infinity = float(\"inf\")"
   ]
  },
  {
   "cell_type": "code",
   "execution_count": 15,
   "metadata": {},
   "outputs": [],
   "source": [
    "# 각 노드로 향하는 비용을 정해준다.\n",
    "# for i in ~, j in ~: \n",
    "#     first = graph[i][j]\n",
    "#     second = graph[i][j]\n",
    "# pseudo code\n",
    "graph = {}\n",
    "graph[\"악보\"] = {}\n",
    "graph[\"악보\"][\"LP\"] = 5\n",
    "graph[\"악보\"][\"포스터\"] = 0\n",
    "\n",
    "graph[\"LP\"] = {}\n",
    "graph[\"LP\"][\"기타\"] = 15 \n",
    "graph[\"LP\"][\"드럼세트\"] = 20\n",
    "\n",
    "graph[\"포스터\"] = {}\n",
    "graph[\"포스터\"][\"기타\"] = 30 \n",
    "graph[\"포스터\"][\"드럼세트\"] = 35 \n",
    "\n",
    "graph[\"기타\"] = {}\n",
    "graph[\"기타\"][\"피아노\"] = 20 \n",
    "\n",
    "graph[\"드럼세트\"] = {}\n",
    "graph[\"드럼세트\"][\"피아노\"] = 10\n",
    "\n",
    "graph[\"피아노\"] = {}"
   ]
  },
  {
   "cell_type": "code",
   "execution_count": 16,
   "metadata": {},
   "outputs": [
    {
     "data": {
      "text/plain": [
       "{'악보': {'LP': 5, '포스터': 0},\n",
       " 'LP': {'기타': 15, '드럼세트': 20},\n",
       " '포스터': {'기타': 30, '드럼세트': 35},\n",
       " '기타': {'피아노': 20},\n",
       " '드럼세트': {'피아노': 10},\n",
       " '피아노': {}}"
      ]
     },
     "execution_count": 16,
     "metadata": {},
     "output_type": "execute_result"
    }
   ],
   "source": [
    "graph"
   ]
  },
  {
   "cell_type": "code",
   "execution_count": 19,
   "metadata": {},
   "outputs": [],
   "source": []
  },
  {
   "cell_type": "code",
   "execution_count": 20,
   "metadata": {},
   "outputs": [
    {
     "name": "stdout",
     "output_type": "stream",
     "text": [
      "dict_items([('LP', 5), ('포스터', 0)])\n",
      "악보 to 포스터 : 0.0\n",
      "dict_items([('기타', 30), ('드럼세트', 35)])\n",
      "포스터 to 기타 : 30.0\n",
      "dict_items([('피아노', 20)])\n",
      "기타 to 피아노 : 20.0\n"
     ]
    },
    {
     "data": {
      "text/plain": [
       "(50.0, ['악보', '포스터', '기타', '피아노'])"
      ]
     },
     "execution_count": 20,
     "metadata": {},
     "output_type": "execute_result"
    }
   ],
   "source": [
    "greedy(graph,'악보','피아노')"
   ]
  },
  {
   "cell_type": "code",
   "execution_count": null,
   "metadata": {},
   "outputs": [],
   "source": []
  }
 ],
 "metadata": {
  "kernelspec": {
   "display_name": "Python 3",
   "language": "python",
   "name": "python3"
  },
  "language_info": {
   "codemirror_mode": {
    "name": "ipython",
    "version": 3
   },
   "file_extension": ".py",
   "mimetype": "text/x-python",
   "name": "python",
   "nbconvert_exporter": "python",
   "pygments_lexer": "ipython3",
   "version": "3.7.6"
  }
 },
 "nbformat": 4,
 "nbformat_minor": 4
}
